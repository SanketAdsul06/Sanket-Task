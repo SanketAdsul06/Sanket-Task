{
 "cells": [
  {
   "cell_type": "code",
   "execution_count": 36,
   "id": "657ad413",
   "metadata": {},
   "outputs": [],
   "source": [
    "import pandas as pd\n",
    "from sklearn.model_selection import train_test_split, GridSearchCV\n",
    "from sklearn.impute import SimpleImputer\n",
    "from sklearn.preprocessing import StandardScaler, RobustScaler\n",
    "from sklearn.decomposition import PCA\n",
    "from sklearn.ensemble import RandomForestRegressor\n",
    "from sklearn.metrics import mean_squared_error, r2_score\n",
    "from sklearn.pipeline import Pipeline\n",
    "import json\n",
    "from sklearn.preprocessing import LabelEncoder\n",
    "from sklearn.ensemble import RandomForestRegressor\n",
    "from sklearn.feature_selection import SelectFromModel\n",
    "import pandas as pd\n",
    "from sklearn.model_selection import train_test_split, GridSearchCV\n",
    "from sklearn.metrics import mean_squared_error, r2_score\n",
    "from sklearn.ensemble import RandomForestRegressor\n",
    "from sklearn.preprocessing import LabelEncoder"
   ]
  },
  {
   "cell_type": "code",
   "execution_count": 37,
   "id": "1c4c1169",
   "metadata": {},
   "outputs": [],
   "source": [
    "from striprtf.striprtf import rtf_to_text\n",
    "import json\n",
    "\n",
    "# Read the .rtf file content\n",
    "with open(\"algoparams_from_ui.json.rtf\", \"r\") as file:\n",
    "    rtf_content = file.read()"
   ]
  },
  {
   "cell_type": "code",
   "execution_count": 38,
   "id": "cad4828d",
   "metadata": {},
   "outputs": [
    {
     "name": "stdout",
     "output_type": "stream",
     "text": [
      "JSON successfully loaded.\n"
     ]
    }
   ],
   "source": [
    "# Convert RTF to plain text\n",
    "plain_text = rtf_to_text(rtf_content)\n",
    "\n",
    "# Now try to load the plain text as JSON\n",
    "try:\n",
    "    config = json.loads(plain_text)\n",
    "    print(\"JSON successfully loaded.\")\n",
    "except json.JSONDecodeError as e:\n",
    "    print(f\"Failed to decode JSON: {e}\")"
   ]
  },
  {
   "cell_type": "code",
   "execution_count": 39,
   "id": "b90902b7",
   "metadata": {},
   "outputs": [],
   "source": [
    "# Load the dataset\n",
    "df = pd.read_csv(config['design_state_data']['session_info']['dataset'])"
   ]
  },
  {
   "cell_type": "code",
   "execution_count": 40,
   "id": "19dbf254",
   "metadata": {},
   "outputs": [],
   "source": [
    "for feature, details in config['design_state_data']['feature_handling'].items():\n",
    "    if details['is_selected']:\n",
    "        feature_details = details['feature_details']\n",
    "        if 'missing_values' in feature_details and feature_details['missing_values'] == \"Impute\":\n",
    "            strategy = \"mean\" if feature_details.get('impute_with') == \"Average of values\" else \"constant\"\n",
    "            fill_value = feature_details.get('impute_value', 0)\n",
    "            # Your logic for handling the imputation\n"
   ]
  },
  {
   "cell_type": "code",
   "execution_count": 41,
   "id": "3bdbcbf7",
   "metadata": {},
   "outputs": [],
   "source": [
    "# Feature Generation: Add interaction features\n",
    "for interaction in config['design_state_data']['feature_generation']['linear_interactions']:\n",
    "    feature_1, feature_2 = interaction\n",
    "    df[f\"{feature_1}_{feature_2}_interaction\"] = df[feature_1] * df[feature_2]\n",
    "\n"
   ]
  },
  {
   "cell_type": "code",
   "execution_count": 42,
   "id": "88693d62",
   "metadata": {},
   "outputs": [],
   "source": [
    "# Separate features and target variable\n",
    "target_column = config['design_state_data']['target']['target']\n",
    "X = df.drop(columns=[target_column])\n",
    "y = df[target_column]"
   ]
  },
  {
   "cell_type": "code",
   "execution_count": 43,
   "id": "c55e6d76",
   "metadata": {},
   "outputs": [
    {
     "name": "stdout",
     "output_type": "stream",
     "text": [
      "Selected Model: RandomForestRegressor()\n",
      "Model parameters for GridSearch: {'n_estimators': [100]}\n",
      "Best parameters: {'n_estimators': 100}\n",
      "Mean Squared Error: 0.032685405666666556\n",
      "R2 Score: 0.9485800047195373\n"
     ]
    }
   ],
   "source": [
    "# Identify and encode categorical features\n",
    "categorical_features = X.select_dtypes(include=['object']).columns\n",
    "label_encoders = {}\n",
    "for feature in categorical_features:\n",
    "    le = LabelEncoder()\n",
    "    X[feature] = le.fit_transform(X[feature])\n",
    "    label_encoders[feature] = le\n",
    "\n",
    "# Split dataset\n",
    "X_train, X_test, y_train, y_test = train_test_split(X, y, test_size=0.2, random_state=42)\n",
    "\n",
    "# Define models\n",
    "models = {\n",
    "    \"RandomForestRegressor\": RandomForestRegressor(),\n",
    "    # Add other models as necessary\n",
    "}\n",
    "\n",
    "# Model selection based on JSON configuration\n",
    "selected_model_name = None\n",
    "for model_name, model_info in config['design_state_data']['algorithms'].items():\n",
    "    if model_info['is_selected']:\n",
    "        selected_model_name = model_name\n",
    "        break\n",
    "\n",
    "if selected_model_name and selected_model_name in models:\n",
    "    selected_model = models[selected_model_name]\n",
    "\n",
    "    # Extract hyperparameters from JSON configuration\n",
    "    param_grid = {\n",
    "        'n_estimators': [int(config['design_state_data']['hyperparameters'].get('num_of_trees', 100))]\n",
    "    }\n",
    "\n",
    "    # Handle max_depth separately if it's not None\n",
    "    depth_of_trees = config['design_state_data']['hyperparameters'].get('depth_of_trees', None)\n",
    "    if depth_of_trees is not None:\n",
    "        param_grid['max_depth'] = [int(depth_of_trees)]\n",
    "\n",
    "    # Print debug information\n",
    "    print(f\"Selected Model: {selected_model}\")\n",
    "    print(f\"Model parameters for GridSearch: {param_grid}\")\n",
    "\n",
    "    # Grid Search\n",
    "    grid_search = GridSearchCV(selected_model, param_grid,\n",
    "                               cv=int(config['design_state_data']['hyperparameters']['num_of_folds']),\n",
    "                               n_jobs=-1)\n",
    "    grid_search.fit(X_train, y_train)\n",
    "\n",
    "    # Predictions\n",
    "    y_pred = grid_search.predict(X_test)\n",
    "\n",
    "    # Log metrics\n",
    "    print(f\"Best parameters: {grid_search.best_params_}\")\n",
    "    print(f\"Mean Squared Error: {mean_squared_error(y_test, y_pred)}\")\n",
    "    print(f\"R2 Score: {r2_score(y_test, y_pred)}\")\n",
    "\n",
    "else:\n",
    "    print(\"No model selected or invalid model name in the JSON configuration.\")\n"
   ]
  },
  {
   "cell_type": "code",
   "execution_count": null,
   "id": "f9e69510",
   "metadata": {},
   "outputs": [],
   "source": []
  }
 ],
 "metadata": {
  "kernelspec": {
   "display_name": "Python 3 (ipykernel)",
   "language": "python",
   "name": "python3"
  },
  "language_info": {
   "codemirror_mode": {
    "name": "ipython",
    "version": 3
   },
   "file_extension": ".py",
   "mimetype": "text/x-python",
   "name": "python",
   "nbconvert_exporter": "python",
   "pygments_lexer": "ipython3",
   "version": "3.11.5"
  }
 },
 "nbformat": 4,
 "nbformat_minor": 5
}
